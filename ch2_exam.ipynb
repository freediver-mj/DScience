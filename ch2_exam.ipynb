{
  "nbformat": 4,
  "nbformat_minor": 0,
  "metadata": {
    "colab": {
      "name": "ch2_exam.ipynb",
      "provenance": [],
      "collapsed_sections": [],
      "mount_file_id": "1yYory-GuIr8TzdWo2ZIVWyjuBS3GG0VF",
      "authorship_tag": "ABX9TyNrZtwv2OLaW4/oTTqESyfv",
      "include_colab_link": true
    },
    "kernelspec": {
      "name": "python3",
      "display_name": "Python 3"
    }
  },
  "cells": [
    {
      "cell_type": "markdown",
      "metadata": {
        "id": "view-in-github",
        "colab_type": "text"
      },
      "source": [
        "<a href=\"https://colab.research.google.com/github/freediver-mj/DScience/blob/main/ch2_exam.ipynb\" target=\"_parent\"><img src=\"https://colab.research.google.com/assets/colab-badge.svg\" alt=\"Open In Colab\"/></a>"
      ]
    },
    {
      "cell_type": "markdown",
      "metadata": {
        "id": "THlDH38pu46L"
      },
      "source": [
        "# 데이터 불러오기"
      ]
    },
    {
      "cell_type": "code",
      "metadata": {
        "id": "sFTBrBo3vCU9",
        "colab": {
          "base_uri": "https://localhost:8080/",
          "height": 235
        },
        "outputId": "3679bf62-e107-4841-fd00-e0e3e5a86050"
      },
      "source": [
        "import pandas as pd\r\n",
        "import numpy as np\r\n",
        "df = pd.read_csv(\"/content/drive/MyDrive/DSciecne/ch2_iris.csv\", index_col=\"caseno\")\r\n",
        "\r\n",
        "df.head()"
      ],
      "execution_count": 14,
      "outputs": [
        {
          "output_type": "execute_result",
          "data": {
            "text/html": [
              "<div>\n",
              "<style scoped>\n",
              "    .dataframe tbody tr th:only-of-type {\n",
              "        vertical-align: middle;\n",
              "    }\n",
              "\n",
              "    .dataframe tbody tr th {\n",
              "        vertical-align: top;\n",
              "    }\n",
              "\n",
              "    .dataframe thead th {\n",
              "        text-align: right;\n",
              "    }\n",
              "</style>\n",
              "<table border=\"1\" class=\"dataframe\">\n",
              "  <thead>\n",
              "    <tr style=\"text-align: right;\">\n",
              "      <th></th>\n",
              "      <th>SepalLength</th>\n",
              "      <th>SepalWidth</th>\n",
              "      <th>PetalLength</th>\n",
              "      <th>PetalWidth</th>\n",
              "      <th>Species</th>\n",
              "    </tr>\n",
              "    <tr>\n",
              "      <th>caseno</th>\n",
              "      <th></th>\n",
              "      <th></th>\n",
              "      <th></th>\n",
              "      <th></th>\n",
              "      <th></th>\n",
              "    </tr>\n",
              "  </thead>\n",
              "  <tbody>\n",
              "    <tr>\n",
              "      <th>1</th>\n",
              "      <td>5.1</td>\n",
              "      <td>3.5</td>\n",
              "      <td>1.4</td>\n",
              "      <td>0.2</td>\n",
              "      <td>setosa</td>\n",
              "    </tr>\n",
              "    <tr>\n",
              "      <th>2</th>\n",
              "      <td>4.9</td>\n",
              "      <td>3.0</td>\n",
              "      <td>1.4</td>\n",
              "      <td>0.2</td>\n",
              "      <td>setosa</td>\n",
              "    </tr>\n",
              "    <tr>\n",
              "      <th>3</th>\n",
              "      <td>4.7</td>\n",
              "      <td>3.2</td>\n",
              "      <td>1.3</td>\n",
              "      <td>0.2</td>\n",
              "      <td>setosa</td>\n",
              "    </tr>\n",
              "    <tr>\n",
              "      <th>4</th>\n",
              "      <td>4.6</td>\n",
              "      <td>3.1</td>\n",
              "      <td>1.5</td>\n",
              "      <td>0.2</td>\n",
              "      <td>setosa</td>\n",
              "    </tr>\n",
              "    <tr>\n",
              "      <th>5</th>\n",
              "      <td>5.0</td>\n",
              "      <td>3.6</td>\n",
              "      <td>1.4</td>\n",
              "      <td>0.2</td>\n",
              "      <td>setosa</td>\n",
              "    </tr>\n",
              "  </tbody>\n",
              "</table>\n",
              "</div>"
            ],
            "text/plain": [
              "        SepalLength  SepalWidth  PetalLength  PetalWidth Species\n",
              "caseno                                                          \n",
              "1               5.1         3.5          1.4         0.2  setosa\n",
              "2               4.9         3.0          1.4         0.2  setosa\n",
              "3               4.7         3.2          1.3         0.2  setosa\n",
              "4               4.6         3.1          1.5         0.2  setosa\n",
              "5               5.0         3.6          1.4         0.2  setosa"
            ]
          },
          "metadata": {
            "tags": []
          },
          "execution_count": 14
        }
      ]
    },
    {
      "cell_type": "code",
      "metadata": {
        "colab": {
          "base_uri": "https://localhost:8080/"
        },
        "id": "VzG-lSZRtRjB",
        "outputId": "3cb0462c-4c76-4b2d-8942-9d2271b898cf"
      },
      "source": [
        "print(df)"
      ],
      "execution_count": 15,
      "outputs": [
        {
          "output_type": "stream",
          "text": [
            "        SepalLength  SepalWidth  PetalLength  PetalWidth    Species\n",
            "caseno                                                             \n",
            "1               5.1         3.5          1.4         0.2     setosa\n",
            "2               4.9         3.0          1.4         0.2     setosa\n",
            "3               4.7         3.2          1.3         0.2     setosa\n",
            "4               4.6         3.1          1.5         0.2     setosa\n",
            "5               5.0         3.6          1.4         0.2     setosa\n",
            "...             ...         ...          ...         ...        ...\n",
            "146             6.7         3.0          5.2         2.3  virginica\n",
            "147             6.3         2.5          5.0         1.9  virginica\n",
            "148             6.5         3.0          5.2         2.0  virginica\n",
            "149             6.2         3.4          5.4         2.3  virginica\n",
            "150             5.9         3.0          5.1         1.8  virginica\n",
            "\n",
            "[150 rows x 5 columns]\n"
          ],
          "name": "stdout"
        }
      ]
    },
    {
      "cell_type": "markdown",
      "metadata": {
        "id": "UCanIEp2uvTR"
      },
      "source": [
        "# 중심위치 척도\r\n",
        "# 평균"
      ]
    },
    {
      "cell_type": "code",
      "metadata": {
        "colab": {
          "base_uri": "https://localhost:8080/"
        },
        "id": "Zxl1F1U-tZog",
        "outputId": "339a3bee-9602-4e41-f43a-3ae983d09710"
      },
      "source": [
        "df.mean()"
      ],
      "execution_count": 16,
      "outputs": [
        {
          "output_type": "execute_result",
          "data": {
            "text/plain": [
              "SepalLength    5.843333\n",
              "SepalWidth     3.057333\n",
              "PetalLength    3.758000\n",
              "PetalWidth     1.199333\n",
              "dtype: float64"
            ]
          },
          "metadata": {
            "tags": []
          },
          "execution_count": 16
        }
      ]
    },
    {
      "cell_type": "code",
      "metadata": {
        "colab": {
          "base_uri": "https://localhost:8080/"
        },
        "id": "DcDR7of5vFY4",
        "outputId": "485630a3-edac-4403-9446-2cd5da54c90e"
      },
      "source": [
        "np.mean(df)"
      ],
      "execution_count": 17,
      "outputs": [
        {
          "output_type": "execute_result",
          "data": {
            "text/plain": [
              "SepalLength    5.843333\n",
              "SepalWidth     3.057333\n",
              "PetalLength    3.758000\n",
              "PetalWidth     1.199333\n",
              "dtype: float64"
            ]
          },
          "metadata": {
            "tags": []
          },
          "execution_count": 17
        }
      ]
    },
    {
      "cell_type": "markdown",
      "metadata": {
        "id": "1Iz4o8uAvMiw"
      },
      "source": [
        "중앙값"
      ]
    },
    {
      "cell_type": "code",
      "metadata": {
        "colab": {
          "base_uri": "https://localhost:8080/"
        },
        "id": "RiwizLCgvSkr",
        "outputId": "d0d5cf43-c489-43a3-8f62-5f7003b896e7"
      },
      "source": [
        "df.median()"
      ],
      "execution_count": 18,
      "outputs": [
        {
          "output_type": "execute_result",
          "data": {
            "text/plain": [
              "SepalLength    5.80\n",
              "SepalWidth     3.00\n",
              "PetalLength    4.35\n",
              "PetalWidth     1.30\n",
              "dtype: float64"
            ]
          },
          "metadata": {
            "tags": []
          },
          "execution_count": 18
        }
      ]
    }
  ]
}